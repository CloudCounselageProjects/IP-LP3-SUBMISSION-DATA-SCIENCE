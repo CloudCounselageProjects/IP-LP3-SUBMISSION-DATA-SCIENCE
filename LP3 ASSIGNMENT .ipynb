{
 "cells": [
  {
   "cell_type": "code",
   "execution_count": 1,
   "metadata": {},
   "outputs": [
    {
     "name": "stdout",
     "output_type": "stream",
     "text": [
      "0       FAKE\n",
      "1       FAKE\n",
      "2       REAL\n",
      "3       FAKE\n",
      "4       REAL\n",
      "5       FAKE\n",
      "6       FAKE\n",
      "7       REAL\n",
      "8       REAL\n",
      "9       REAL\n",
      "10      REAL\n",
      "11      REAL\n",
      "12      FAKE\n",
      "13      FAKE\n",
      "14      REAL\n",
      "15      REAL\n",
      "16      FAKE\n",
      "17      FAKE\n",
      "18      REAL\n",
      "19      REAL\n",
      "20      REAL\n",
      "21      FAKE\n",
      "22      REAL\n",
      "23      REAL\n",
      "24      FAKE\n",
      "25      REAL\n",
      "26      REAL\n",
      "27      REAL\n",
      "28      REAL\n",
      "29      FAKE\n",
      "        ... \n",
      "6305    FAKE\n",
      "6306    FAKE\n",
      "6307    FAKE\n",
      "6308    FAKE\n",
      "6309    REAL\n",
      "6310    REAL\n",
      "6311    REAL\n",
      "6312    FAKE\n",
      "6313    FAKE\n",
      "6314    FAKE\n",
      "6315    REAL\n",
      "6316    REAL\n",
      "6317    FAKE\n",
      "6318    FAKE\n",
      "6319    REAL\n",
      "6320    FAKE\n",
      "6321    FAKE\n",
      "6322    FAKE\n",
      "6323    REAL\n",
      "6324    REAL\n",
      "6325    FAKE\n",
      "6326    FAKE\n",
      "6327    REAL\n",
      "6328    FAKE\n",
      "6329    FAKE\n",
      "6330    REAL\n",
      "6331    FAKE\n",
      "6332    FAKE\n",
      "6333    REAL\n",
      "6334    REAL\n",
      "Name: label, Length: 6335, dtype: object\n"
     ]
    }
   ],
   "source": [
    "#IMPORT ALL NECESSARY LIBRARIES NEEDED FOR ASSIGNMENT\n",
    "import pandas as pd\n",
    "import itertools\n",
    "from sklearn.model_selection import train_test_split\n",
    "from sklearn.feature_extraction.text import TfidfVectorizer\n",
    "from sklearn.linear_model import PassiveAggressiveClassifier\n",
    "from sklearn.feature_extraction.text import TfidfVectorizer\n",
    "from sklearn.metrics import confusion_matrix,accuracy_score\n",
    "\n",
    "data=pd.read_csv(\"news.csv\")# READ THE DATA\n",
    "y=data.label\n",
    "print(y)"
   ]
  },
  {
   "cell_type": "code",
   "execution_count": 37,
   "metadata": {},
   "outputs": [],
   "source": [
    "#DIVIDE DATA INTO TRAINING AND TEST SETS\n",
    "x_train,x_test,y_train,y_test=train_test_split(data['text'], y, test_size=0.2, random_state=1)\n"
   ]
  },
  {
   "cell_type": "code",
   "execution_count": 38,
   "metadata": {},
   "outputs": [],
   "source": [
    "#CREATE A VECTORIZER\n",
    "vector= TfidfVectorizer()\n",
    "tfidf_train=vector.fit_transform(x_train) \n",
    "tfidf_test=vector.transform(x_test)"
   ]
  },
  {
   "cell_type": "code",
   "execution_count": 39,
   "metadata": {},
   "outputs": [
    {
     "data": {
      "text/plain": [
       "PassiveAggressiveClassifier(C=1.0, average=False, class_weight=None,\n",
       "              fit_intercept=True, loss='hinge', max_iter=50, n_iter=None,\n",
       "              n_jobs=1, random_state=None, shuffle=True, tol=None,\n",
       "              verbose=0, warm_start=False)"
      ]
     },
     "execution_count": 39,
     "metadata": {},
     "output_type": "execute_result"
    }
   ],
   "source": [
    "#INITIALIZE PASSIVE AGGRESSIVE CLASSIFIER\n",
    "rom=PassiveAggressiveClassifier(max_iter=50)\n",
    "rom.fit(tfidf_train,y_train)"
   ]
  },
  {
   "cell_type": "code",
   "execution_count": 40,
   "metadata": {},
   "outputs": [
    {
     "name": "stdout",
     "output_type": "stream",
     "text": [
      "Accuracy: 95.03%\n"
     ]
    }
   ],
   "source": [
    "#CALCULATE ACCURACY AND CONFUSION MATRIX\n",
    "y_pred=rom.predict(tfidf_test)\n",
    "accuracy=accuracy_score(y_test,y_pred)\n",
    "print(f'Accuracy: {round(accuracy*100,2)}%')"
   ]
  },
  {
   "cell_type": "code",
   "execution_count": 35,
   "metadata": {},
   "outputs": [
    {
     "data": {
      "text/plain": [
       "array([[587,  41],\n",
       "       [ 38, 601]], dtype=int64)"
      ]
     },
     "execution_count": 35,
     "metadata": {},
     "output_type": "execute_result"
    }
   ],
   "source": [
    "confusion_matrix(y_test,y_pred, labels=['FAKE','REAL'])"
   ]
  },
  {
   "cell_type": "code",
   "execution_count": 2,
   "metadata": {},
   "outputs": [
    {
     "ename": "SyntaxError",
     "evalue": "invalid syntax (<ipython-input-2-6a93a40d13f1>, line 1)",
     "output_type": "error",
     "traceback": [
      "\u001b[1;36m  File \u001b[1;32m\"<ipython-input-2-6a93a40d13f1>\"\u001b[1;36m, line \u001b[1;32m1\u001b[0m\n\u001b[1;33m    sklearn.metrics import roc_auc_score\u001b[0m\n\u001b[1;37m                         ^\u001b[0m\n\u001b[1;31mSyntaxError\u001b[0m\u001b[1;31m:\u001b[0m invalid syntax\n"
     ]
    }
   ],
   "source": [
    "frosklearn.metrics import roc_auc_score\n",
    "roc_auc_score(y_test, y_pred)"
   ]
  },
  {
   "cell_type": "code",
   "execution_count": null,
   "metadata": {},
   "outputs": [],
   "source": []
  }
 ],
 "metadata": {
  "kernelspec": {
   "display_name": "Python 3",
   "language": "python",
   "name": "python3"
  },
  "language_info": {
   "codemirror_mode": {
    "name": "ipython",
    "version": 3
   },
   "file_extension": ".py",
   "mimetype": "text/x-python",
   "name": "python",
   "nbconvert_exporter": "python",
   "pygments_lexer": "ipython3",
   "version": "3.6.5"
  }
 },
 "nbformat": 4,
 "nbformat_minor": 2
}
