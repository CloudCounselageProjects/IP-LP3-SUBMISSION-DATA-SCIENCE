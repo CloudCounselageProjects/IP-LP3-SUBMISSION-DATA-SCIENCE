{
 "cells": [
  {
   "cell_type": "code",
   "execution_count": 1,
   "metadata": {},
   "outputs": [],
   "source": [
    "import pandas as pd\n",
    "import numpy as np\n",
    "import matplotlib.pyplot as plt\n"
   ]
  },
  {
   "cell_type": "code",
   "execution_count": 2,
   "metadata": {},
   "outputs": [
    {
     "name": "stdout",
     "output_type": "stream",
     "text": [
      "     First Name Last Name      City        State  Zip Code DOB [DD/MM/YYYY]  \\\n",
      "0        Barron    Harnes  Kolhapur  Maharashtra    416004         24-09-00   \n",
      "1         Velma    Allone      Pune  Maharashtra    411011         23-10-97   \n",
      "2       Thibaut  Scotland    Mumbai  Maharashtra    400059         06-02-96   \n",
      "3         Retha     Proud   Solapur  Maharashtra    413224         26-12-99   \n",
      "4           Del    Pearse    Sangli  Maharashtra    416436         21-09-96   \n",
      "...         ...       ...       ...          ...       ...              ...   \n",
      "9995     Paulie    Wilden    Sangli  Maharashtra    416410         01-06-00   \n",
      "9996     Domini    Napton    Mumbai  Maharashtra    400059         20-07-98   \n",
      "9997     Adoree  Westwick  Kolhapur  Maharashtra    416007         21-03-98   \n",
      "9998    Germain     Imlen    Sangli  Maharashtra    416415         29-01-00   \n",
      "9999     Roanne    Dallow   Solapur  Maharashtra    413224         06-03-99   \n",
      "\n",
      "      Age  Gender              Email Address  Contact Number  ...  \\\n",
      "0      19    Male       bharnes0@harvard.edu      6345186600  ...   \n",
      "1      22  Female            vallone1@i2i.jp      2808753102  ...   \n",
      "2      24    Male  tscotland2@opensource.org      2945231918  ...   \n",
      "3      20  Female         rproud3@flavors.me      7507196200  ...   \n",
      "4      23  Female      dpearse4@sakura.ne.jp      6643884281  ...   \n",
      "...   ...     ...                        ...             ...  ...   \n",
      "9995   19    Male       pwildenrn@sbwire.com      5067103396  ...   \n",
      "9996   21  Female   dnaptonro@deviantart.com      9365868127  ...   \n",
      "9997   22  Female    awestwickrp@example.com      7088063119  ...   \n",
      "9998   20  Female   gimlenrq@theatlantic.com      1662837014  ...   \n",
      "9999   21  Female     rdallowrr@bandcamp.com      6837626327  ...   \n",
      "\n",
      "      Programming Language Known other than Java (one major)  \\\n",
      "0                                              HTML/CSS        \n",
      "1                                                   PHP        \n",
      "2                                                     C        \n",
      "3                                                   PHP        \n",
      "4                                                Python        \n",
      "...                                                 ...        \n",
      "9995                                         JavaScript        \n",
      "9996                                                PHP        \n",
      "9997                                                C++        \n",
      "9998                                         JavaScript        \n",
      "9999                                                  C        \n",
      "\n",
      "     Have you worked on MySQL or Oracle database  \\\n",
      "0                                            Yes   \n",
      "1                                             No   \n",
      "2                                             No   \n",
      "3                                             No   \n",
      "4                                             No   \n",
      "...                                          ...   \n",
      "9995                                         Yes   \n",
      "9996                                         Yes   \n",
      "9997                                         Yes   \n",
      "9998                                         Yes   \n",
      "9999                                          No   \n",
      "\n",
      "     Have you studied OOP Concepts  \\\n",
      "0                               No   \n",
      "1                              Yes   \n",
      "2                               No   \n",
      "3                              Yes   \n",
      "4                              Yes   \n",
      "...                            ...   \n",
      "9995                           Yes   \n",
      "9996                           Yes   \n",
      "9997                            No   \n",
      "9998                           Yes   \n",
      "9999                            No   \n",
      "\n",
      "     Certifications/Achievement/ Research papers  \\\n",
      "0                                            NaN   \n",
      "1                                            NaN   \n",
      "2                                            NaN   \n",
      "3                                            NaN   \n",
      "4                                            NaN   \n",
      "...                                          ...   \n",
      "9995                                         NaN   \n",
      "9996                                         NaN   \n",
      "9997                                         NaN   \n",
      "9998                                         NaN   \n",
      "9999                                         NaN   \n",
      "\n",
      "     Rate your written communication skills [1-10]  \\\n",
      "0                                                6   \n",
      "1                                               10   \n",
      "2                                                8   \n",
      "3                                                9   \n",
      "4                                                8   \n",
      "...                                            ...   \n",
      "9995                                             9   \n",
      "9996                                             7   \n",
      "9997                                             7   \n",
      "9998                                             7   \n",
      "9999                                             6   \n",
      "\n",
      "     Rate your verbal communication skills [1-10]  \\\n",
      "0                                              10   \n",
      "1                                               7   \n",
      "2                                               6   \n",
      "3                                               6   \n",
      "4                                               6   \n",
      "...                                           ...   \n",
      "9995                                            9   \n",
      "9996                                            7   \n",
      "9997                                            7   \n",
      "9998                                            6   \n",
      "9999                                           10   \n",
      "\n",
      "     Link to updated Resume (Google/ One Drive link preferred)  \\\n",
      "0                                                   NaN          \n",
      "1                                                   NaN          \n",
      "2                                                   NaN          \n",
      "3                                                   NaN          \n",
      "4                                                   NaN          \n",
      "...                                                 ...          \n",
      "9995                                                NaN          \n",
      "9996                                                NaN          \n",
      "9997                                                NaN          \n",
      "9998                                                NaN          \n",
      "9999                                                NaN          \n",
      "\n",
      "      link to Linkedin profile  How Did You Hear About This Internship?  \\\n",
      "0                          NaN                                  Twitter   \n",
      "1                          NaN                      Ex/Current Employee   \n",
      "2                          NaN                                  Twitter   \n",
      "3                          NaN                                  Twitter   \n",
      "4                          NaN                                 Facebook   \n",
      "...                        ...                                      ...   \n",
      "9995                       NaN                                 Facebook   \n",
      "9996                       NaN                                   Friend   \n",
      "9997                       NaN                                Newspaper   \n",
      "9998                       NaN                                Blog post   \n",
      "9999                       NaN                                 Facebook   \n",
      "\n",
      "           Label  \n",
      "0     ineligible  \n",
      "1       eligible  \n",
      "2     ineligible  \n",
      "3     ineligible  \n",
      "4     ineligible  \n",
      "...          ...  \n",
      "9995    eligible  \n",
      "9996    eligible  \n",
      "9997    eligible  \n",
      "9998  ineligible  \n",
      "9999  ineligible  \n",
      "\n",
      "[10000 rows x 32 columns]\n"
     ]
    }
   ],
   "source": [
    "data=pd.read_csv('D:/IP_LP3_DATA_SCIENCE_DEBJYOTI_SAHA_2982/Week 1/DS_DATESET.csv')\n",
    "print(data)"
   ]
  },
  {
   "cell_type": "code",
   "execution_count": 5,
   "metadata": {},
   "outputs": [
    {
     "data": {
      "text/plain": [
       "<Figure size 720x720 with 0 Axes>"
      ]
     },
     "metadata": {},
     "output_type": "display_data"
    },
    {
     "data": {
      "image/png": "[encoded data removed]",
      "text/plain": [
       "<Figure size 432x288 with 1 Axes>"
      ]
     },
     "metadata": {
      "needs_background": "light"
     },
     "output_type": "display_data"
    }
   ],
   "source": [
    "fig=plt.figure(figsize=(10,10))\n",
    "x=data['Areas']\n",
    "y=data['Label']\n",
    "n=range(1,20)\n",
    "fig, ax=plt.subplots()\n",
    "ax.scatter(x,y,marker='o', c='red', alpha=0.5)\n",
    "plt.grid()\n",
    "for i, txt in enumerate(n):\n",
    "    ax.annotate(txt, (x[i], y[i]))\n",
    "plt.show()"
   ]
  },
  {
   "cell_type": "code",
   "execution_count": null,
   "metadata": {},
   "outputs": [],
   "source": []
  }
 ],
 "metadata": {
  "kernelspec": {
   "display_name": "Python 3",
   "language": "python",
   "name": "python3"
  },
  "language_info": {
   "codemirror_mode": {
    "name": "ipython",
    "version": 3
   },
   "file_extension": ".py",
   "mimetype": "text/x-python",
   "name": "python",
   "nbconvert_exporter": "python",
   "pygments_lexer": "ipython3",
   "version": "3.8.2"
  }
 },
 "nbformat": 4,
 "nbformat_minor": 4
}
