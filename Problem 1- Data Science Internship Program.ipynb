{
 "cells": [
  {
   "cell_type": "code",
   "execution_count": null,
   "metadata": {},
   "outputs": [],
   "source": [
    "import numpy as np\n",
    "import matplotlib.pyplot as plt\n",
    "import seaborn as sns\n",
    "import pandas as pd\n"
   ]
  },
  {
   "cell_type": "code",
   "execution_count": null,
   "metadata": {},
   "outputs": [],
   "source": [
    "# Data Pre-processing\n",
    "data=pd.read_csv('D:/IP_LP3_DATA_SCIENCE_DEBJYOTI_SAHA_2982/Week 1/DS_DATESET.csv')\n",
    "print(data)\n",
    "col=data.columns\n",
    "print(col)"
   ]
  },
  {
   "cell_type": "code",
   "execution_count": null,
   "metadata": {},
   "outputs": [],
   "source": [
    "#null value counts\n",
    "n_ull=data.isna().sum()\n",
    "print(n_ull)\n"
   ]
  },
  {
   "cell_type": "code",
   "execution_count": null,
   "metadata": {},
   "outputs": [],
   "source": [
    "#drop unnecessary columns\n",
    "eli=data.drop(['First Name', 'Last Name', 'Zip Code','Age', 'Degree'], axis=1, inplace=True)\n",
    "print(data.head(10))"
   ]
  },
  {
   "cell_type": "code",
   "execution_count": null,
   "metadata": {},
   "outputs": [],
   "source": [
    "#total missing values\n",
    "total=data.isnull().sum().sort_values(ascending=False)\n",
    "print(total)\n",
    "t_head=total.head()\n",
    "print(t_head)"
   ]
  },
  {
   "cell_type": "code",
   "execution_count": null,
   "metadata": {},
   "outputs": [],
   "source": [
    "#percentage of missing value\n",
    "percent=(data.isnull().sum()/data.isnull().count()*100).sort_values(ascending=False)\n",
    "print('The percent value is')\n",
    "print(percent)\n",
    "missing_data=pd.concat([total,percent],axis=1,keys=['Total', 'Percent'])\n",
    "print(missing_data)\n",
    "miss_head=missing_data.head()\n",
    "print(miss_head)"
   ]
  },
  {
   "cell_type": "code",
   "execution_count": null,
   "metadata": {},
   "outputs": [],
   "source": [
    "#percentage of missing value(bar-plot)\n",
    "sns.barplot(x=missing_data.index, y=missing_data['Percent'])\n",
    "fig=plt.figure(figsize=(18, 16), dpi= 80, facecolor='w', edgecolor='k')\n",
    "plt.show()\n"
   ]
  },
  {
   "cell_type": "code",
   "execution_count": null,
   "metadata": {},
   "outputs": [],
   "source": []
  }
 ],
 "metadata": {
  "kernelspec": {
   "display_name": "Python 3",
   "language": "python",
   "name": "python3"
  },
  "language_info": {
   "codemirror_mode": {
    "name": "ipython",
    "version": 3
   },
   "file_extension": ".py",
   "mimetype": "text/x-python",
   "name": "python",
   "nbconvert_exporter": "python",
   "pygments_lexer": "ipython3",
   "version": "3.8.2"
  }
 },
 "nbformat": 4,
 "nbformat_minor": 4
}
